{
 "cells": [
  {
   "cell_type": "code",
   "execution_count": 1,
   "id": "21ea9a5b-da64-4a97-aa51-c825c5c4c2a7",
   "metadata": {},
   "outputs": [],
   "source": [
    "import pandas as pd \n",
    "import numpy as np\n",
    "import matplotlib.pyplot as plt\n"
   ]
  },
  {
   "cell_type": "code",
   "execution_count": 13,
   "id": "12782d0b-0fed-4d6e-b29c-ee377b153c78",
   "metadata": {},
   "outputs": [
    {
     "name": "stdout",
     "output_type": "stream",
     "text": [
      "Success with latin1\n"
     ]
    }
   ],
   "source": [
    "import pandas as pd\n",
    "\n",
    "# Try common encodings (most likely one will work)\n",
    "encodings = ['latin1', 'iso-8859-1', 'cp1252', 'utf-16']\n",
    "\n",
    "for encoding in encodings:\n",
    "    try:\n",
    "        df = pd.read_csv('IT.csv', encoding=encoding)\n",
    "        print(f\"Success with {encoding}\")\n",
    "        break\n",
    "    except UnicodeDecodeError:\n",
    "        continue"
   ]
  },
  {
   "cell_type": "code",
   "execution_count": 27,
   "id": "2de2b689-28b0-4a39-9443-71a60df46706",
   "metadata": {},
   "outputs": [
    {
     "data": {
      "text/plain": [
       "<bound method DataFrame.info of        EEID      Full Name             Job Title Department  \\\n",
       "0    E03247    Aaliyah Mai        Vice President         IT   \n",
       "1    E04888   Elijah Henry               Manager         IT   \n",
       "2    E02216  Caleb Marquez  IT Systems Architect         IT   \n",
       "3    E02861   Daniel Perry  Enterprise Architect         IT   \n",
       "4    E04972      Sophie Oh      Network Engineer         IT   \n",
       "..      ...            ...                   ...        ...   \n",
       "277  E04670       Angel Do  IT Systems Architect         IT   \n",
       "278  E02888   Elijah Ramos            Sr. Manger         IT   \n",
       "281   E2001       John Doe            IT Analyst         IT   \n",
       "282   E2006      Lisa Chen     Software Engineer         IT   \n",
       "283   E2009  Michael Brown        Data Scientist         IT   \n",
       "\n",
       "              Business Unit  Gender  Ethnicity  Age   Hire Date Annual Salary  \\\n",
       "0       Speciality Products  Female      Asian   57  11/11/2016     $246,589    \n",
       "1                 Corporate    Male  Caucasian   32    1/3/2014     $127,148    \n",
       "2    Research & Development    Male     Latino   29  10/15/2019      $66,819    \n",
       "3    Research & Development    Male  Caucasian   62   4/15/2001      $80,921    \n",
       "4                 Corporate  Female      Asian   29   11/9/2017      $63,985    \n",
       "..                      ...     ...        ...  ...         ...           ...   \n",
       "277     Speciality Products    Male      Asian   34   9/20/2019      $94,735    \n",
       "278     Speciality Products    Male     Latino   33  12/24/2012     $132,544    \n",
       "281                     NaN    Male        NaN   29   3/15/2020         55000   \n",
       "282                     NaN  Female        NaN   25   2/10/2023         68000   \n",
       "283                     NaN    Male        NaN   33  10/15/2019         78000   \n",
       "\n",
       "     Bonus %        Country            City   ExitDate  EmploymentRating  \\\n",
       "0       0.33  United States         Phoenix  3/26/2017                 7   \n",
       "1       0.10  United States           Miami        NaN                 7   \n",
       "2       0.00         Brazil  Rio de Janerio        NaN                 7   \n",
       "3       0.00  United States        Columbus        NaN                 5   \n",
       "4       0.00  United States           Miami        NaN                 8   \n",
       "..       ...            ...             ...        ...               ...   \n",
       "277     0.00          China       Beijing          NaN                10   \n",
       "278     0.10         Brazil  Rio de Janerio        NaN                 9   \n",
       "281     5.00            UAE           Dubai        NaN                 4   \n",
       "282     9.00         Canada         Toronto        NaN                 5   \n",
       "283     8.00            UAE           Dubai  3/10/2023                 5   \n",
       "\n",
       "     DaysOfAbsence EducationLevel  CertificationsEarned  \n",
       "0               16     Bachelor's                     0  \n",
       "1               16       Master's                     1  \n",
       "2               16     Bachelor's                     2  \n",
       "3               16     Bachelor's                     1  \n",
       "4               16     Bachelor's                     3  \n",
       "..             ...            ...                   ...  \n",
       "277              0            PhD                     3  \n",
       "278              0     Bachelor's                     2  \n",
       "281              3       Bachelor                     2  \n",
       "282              0       Bachelor                     3  \n",
       "283              1         Master                     4  \n",
       "\n",
       "[236 rows x 18 columns]>"
      ]
     },
     "execution_count": 27,
     "metadata": {},
     "output_type": "execute_result"
    }
   ],
   "source": [
    "df.info"
   ]
  },
  {
   "cell_type": "code",
   "execution_count": 17,
   "id": "9cdf8be8-d922-43cd-b104-d6e71447a381",
   "metadata": {},
   "outputs": [
    {
     "name": "stdout",
     "output_type": "stream",
     "text": [
      "0\n"
     ]
    }
   ],
   "source": [
    "print(df['EEID'].isna().sum())"
   ]
  },
  {
   "cell_type": "code",
   "execution_count": 25,
   "id": "5d28ad03-750e-4856-ac5e-56f95e4d5bd4",
   "metadata": {},
   "outputs": [
    {
     "name": "stdout",
     "output_type": "stream",
     "text": [
      "48\n",
      "0\n"
     ]
    }
   ],
   "source": [
    "print(df['EEID'].duplicated().sum())\n",
    "df.drop_duplicates(subset=['EEID'], keep='first', inplace=True)\n",
    "print(df['EEID'].duplicated().sum())"
   ]
  },
  {
   "cell_type": "code",
   "execution_count": 93,
   "id": "a614596b-efe7-4b1f-b552-cd2337dd1cd8",
   "metadata": {},
   "outputs": [
    {
     "name": "stdout",
     "output_type": "stream",
     "text": [
      "0\n",
      "0\n",
      "0\n"
     ]
    }
   ],
   "source": [
    "print(df['Full Name'].isna().sum())\n",
    "print(df['Full Name'].duplicated().sum())\n",
    "df.drop_duplicates(subset=['Full Name'], keep='first', inplace=True)\n",
    "print(df['Full Name'].duplicated().sum())"
   ]
  },
  {
   "cell_type": "code",
   "execution_count": 95,
   "id": "9224237a-3440-4d5a-89e8-06f638ebab07",
   "metadata": {},
   "outputs": [],
   "source": [
    "df['Annual Salary'] = (\n",
    "    df['Annual Salary']\n",
    "    .str.replace('$', '', regex=False)\n",
    "    .str.replace(',', '')\n",
    "    .str.strip()\n",
    "    .astype(float)\n",
    ")"
   ]
  },
  {
   "cell_type": "code",
   "execution_count": null,
   "id": "70390945-d10f-4275-b8c8-5ccb4b150463",
   "metadata": {},
   "outputs": [],
   "source": [
    "df['Gender'] = df['Gender'].str.capitalize()\n",
    "df['City'] = df['City'].str.strip()\n",
    "df['Hire Date'] = pd.to_datetime(df['Hire Date'])"
   ]
  },
  {
   "cell_type": "code",
   "execution_count": 97,
   "id": "aef40528-4c46-4899-9eae-db5c0b7ed422",
   "metadata": {},
   "outputs": [],
   "source": [
    "df['Job Title'] = df['Job Title'].str.replace('\\xa0', ' ', regex=False).str.strip()\n",
    "df['Job Title'] = df['Job Title'].str.capitalize()\n",
    "df['Job Title'] = df['Job Title'].replace({\n",
    "    'Sr. Manger': 'Senior Manager',  \n",
    "    'System Administrator ': 'System Administrator',  \n",
    "    'It ': 'IT '  \n",
    "}, regex=True)"
   ]
  },
  {
   "cell_type": "code",
   "execution_count": 45,
   "id": "37bdae7d-20bf-41cd-a6db-4a8e1c7abcd3",
   "metadata": {},
   "outputs": [
    {
     "name": "stdout",
     "output_type": "stream",
     "text": [
      "3\n",
      "0\n"
     ]
    }
   ],
   "source": [
    "print(df['Business Unit'].isna().sum())\n",
    "df.dropna(subset=['Business Unit'],inplace = True)\n",
    "print(df['Business Unit'].isna().sum())"
   ]
  },
  {
   "cell_type": "code",
   "execution_count": null,
   "id": "5c5f7c02-f801-4bcd-9bad-d1d4e7a13b06",
   "metadata": {},
   "outputs": [],
   "source": [
    "df.drop('ExitDate',axis = 1 , inplace = True)"
   ]
  },
  {
   "cell_type": "code",
   "execution_count": 91,
   "id": "a7e7391f-4ac5-4004-b0a1-d23e7ca0b425",
   "metadata": {},
   "outputs": [
    {
     "name": "stdout",
     "output_type": "stream",
     "text": [
      "1\n",
      "0\n"
     ]
    }
   ],
   "source": [
    "print(df['Full Name'].isna().sum())\n",
    "df.dropna(subset=['Full Name'],inplace = True)\n",
    "print(df['City'].isna().sum())"
   ]
  },
  {
   "cell_type": "code",
   "execution_count": 99,
   "id": "b1e4ce1a-bdb9-44d7-93af-fb5ffb5efa63",
   "metadata": {},
   "outputs": [
    {
     "data": {
      "text/plain": [
       "<bound method DataFrame.info of        EEID      Full Name             Job Title Department  \\\n",
       "0    E03247    Aaliyah Mai        Vice president         IT   \n",
       "1    E04888   Elijah Henry               Manager         IT   \n",
       "2    E02216  Caleb Marquez  IT systems architect         IT   \n",
       "3    E02861   Daniel Perry  Enterprise architect         IT   \n",
       "4    E04972      Sophie Oh      Network engineer         IT   \n",
       "..      ...            ...                   ...        ...   \n",
       "274  E04444  Brooklyn Ruiz        IT coordinator         IT   \n",
       "275  E04189     Ariana Kim     Network architect         IT   \n",
       "276  E03455    Hadley Ford       Systems analyst         IT   \n",
       "277  E04670       Angel Do  IT systems architect         IT   \n",
       "278  E02888   Elijah Ramos            Sr. manger         IT   \n",
       "\n",
       "              Business Unit  Gender  Ethnicity  Age   Hire Date  \\\n",
       "0       Speciality Products  Female      Asian   57  2016-11-11   \n",
       "1                 Corporate    Male  Caucasian   32  2014-01-03   \n",
       "2    Research & Development    Male     Latino   29  2019-10-15   \n",
       "3    Research & Development    Male  Caucasian   62  2001-04-15   \n",
       "4                 Corporate  Female      Asian   29  2017-11-09   \n",
       "..                      ...     ...        ...  ...         ...   \n",
       "274           Manufacturing  Female     Latino   61  2014-08-10   \n",
       "275           Manufacturing  Female      Asian   33  2014-06-29   \n",
       "276  Research & Development  Female  Caucasian   52  2005-02-23   \n",
       "277     Speciality Products    Male      Asian   34  2019-09-20   \n",
       "278     Speciality Products    Male     Latino   33  2012-12-24   \n",
       "\n",
       "     Annual Salary  Bonus %        Country            City  EmploymentRating  \\\n",
       "0         246589.0     0.33  United States         Phoenix                 7   \n",
       "1         127148.0     0.10  United States           Miami                 7   \n",
       "2          66819.0     0.00         Brazil  Rio de Janerio                 7   \n",
       "3          80921.0     0.00  United States        Columbus                 5   \n",
       "4          63985.0     0.00  United States           Miami                 8   \n",
       "..             ...      ...            ...             ...               ...   \n",
       "274        57446.0     0.00  United States         Phoenix                 6   \n",
       "275        96366.0     0.00          China         Chengdu                 6   \n",
       "276        45286.0     0.00  United States         Chicago                 9   \n",
       "277        94735.0     0.00          China       Beijing                  10   \n",
       "278       132544.0     0.10         Brazil  Rio de Janerio                 9   \n",
       "\n",
       "     DaysOfAbsence EducationLevel  CertificationsEarned  \n",
       "0               16     Bachelor's                     0  \n",
       "1               16       Master's                     1  \n",
       "2               16     Bachelor's                     2  \n",
       "3               16     Bachelor's                     1  \n",
       "4               16     Bachelor's                     3  \n",
       "..             ...            ...                   ...  \n",
       "274              0     Bachelor's                     4  \n",
       "275              0     Bachelor's                     0  \n",
       "276              0       Master's                     0  \n",
       "277              0            PhD                     3  \n",
       "278              0     Bachelor's                     2  \n",
       "\n",
       "[231 rows x 17 columns]>"
      ]
     },
     "execution_count": 99,
     "metadata": {},
     "output_type": "execute_result"
    }
   ],
   "source": [
    "df.info"
   ]
  },
  {
   "cell_type": "code",
   "execution_count": 83,
   "id": "6e12dd92-7969-4fda-a798-6ee7367e6b8e",
   "metadata": {},
   "outputs": [],
   "source": [
    "df['Hire Date']=pd.to_datetime(df['Hire Date'],format = 'mixed').dt.date"
   ]
  },
  {
   "cell_type": "code",
   "execution_count": 101,
   "id": "43f74fa2-6e04-482d-aa58-d7f4e2c5b5ab",
   "metadata": {},
   "outputs": [],
   "source": [
    "df.to_csv('ITcleaned1.csv', index=False)"
   ]
  },
  {
   "cell_type": "code",
   "execution_count": null,
   "id": "eeffd342-603a-4160-bf56-6f2cbcf76892",
   "metadata": {},
   "outputs": [],
   "source": []
  }
 ],
 "metadata": {
  "kernelspec": {
   "display_name": "Python [conda env:base] *",
   "language": "python",
   "name": "conda-base-py"
  },
  "language_info": {
   "codemirror_mode": {
    "name": "ipython",
    "version": 3
   },
   "file_extension": ".py",
   "mimetype": "text/x-python",
   "name": "python",
   "nbconvert_exporter": "python",
   "pygments_lexer": "ipython3",
   "version": "3.12.7"
  }
 },
 "nbformat": 4,
 "nbformat_minor": 5
}
